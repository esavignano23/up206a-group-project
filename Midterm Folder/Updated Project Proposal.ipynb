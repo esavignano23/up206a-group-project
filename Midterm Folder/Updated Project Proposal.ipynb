{
 "cells": [
  {
   "cell_type": "markdown",
   "id": "9c0b8a7c-3369-4fcd-b7c9-8db9d71b2c3b",
   "metadata": {},
   "source": [
    "# Project Proposal"
   ]
  },
  {
   "cell_type": "markdown",
   "id": "48ad391e-cdd0-488a-b7c3-02e62fdf2022",
   "metadata": {},
   "source": [
    "## Corridors of Tolerance: The effect of post-apartheid public transit development on racial attitudes in Gauteng, South Africa"
   ]
  },
  {
   "cell_type": "markdown",
   "id": "0c2550f4-9c53-4aed-a745-3c24036475a3",
   "metadata": {},
   "source": [
    "#### Elena Savignano and Yasmina Yusuf\n",
    "##### GIS 206A Winter 2022"
   ]
  },
  {
   "cell_type": "markdown",
   "id": "538bbeb3-50d2-43fe-9609-e62adb59c31c",
   "metadata": {},
   "source": [
    "### Introduction\n",
    "\n",
    "Transit Oriented Development (TOD), specifically Bus Rapid Transit (BRT) systems, have emerged as a panacea to a range of social and economic problems cities are facing. Many African cities are developing grand and costly TOD visions, when in fact there is little evidence that they deliver on the promises policy makers outline. BRTs funded by the World Bank and other development partners are seen as a sustainable and cost-effective “win-win” solution across Africa. Over the last 12 years, a range of cities including Dar es Salaam, Johannesburg, Accra, Maputo and Lagos have either developed or are in the process of developing a BRT. In Johannesburg, the BRT has been hailed as a way towards social cohesion, reversing the exclusionary policies that were entrenched in the city’s urban planing during apartheid by expanding access to social and economic opportunities.\n",
    "\n",
    "In few countries was city planning so explicitly racialized as in South Africa. In many cities in South Africa, the majority of the black population lived in segregated residential enclaves where they had limited access to public transportation, restricting accessibility to economic and social life (Soja 2010) Soja, E. (2010b) *Seeking Spatial Justice*. Minneapolis: University of Minnesota Press.) \n",
    "\n",
    "Reformist mayors of post-apartheid South African cities have turned to TOD as a corrective for these issues ([City of Johannesburg (2016) Spatial Development Framework 2040. Johannesburg: City of Johannesburg](https://unhabitat.org/books/spatial-development-framework-2040-city-of-johannesburg-metropolitan-municipality/)]).\n",
    "\n",
    "However little empirical research has been conducted on whether bus and rail systems have led to integration and increased tolerance between racial groups. Using Gauteng’s City-Regional Observatory (GCRO) Quality of Life (QoL) survey data, we will explore if the TOD vision, which includes the implementation of a BRT and rail system in the Gauteng region has changed attitudes towards race. Gauteng is an ideal case for the study of this hypothesis as South Africa has high levels of racial tension and xenophobic behaviour ([Human Rights Watch](https://www.hrw.org/report/2020/09/17/they-have-robbed-me-my-life/xenophobic-violence-against-non-nationals-south))"
   ]
  },
  {
   "cell_type": "markdown",
   "id": "68647193-de0b-46a1-8596-8454462daa51",
   "metadata": {},
   "source": [
    "### Research Questions\n",
    "\n",
    "We will test two hypotheses in this project. The first will explore whether the interaction with immigrant groups through transit has improved locals attitudes towards foreigners. Immigrants in South Africa often work in the informal sector and trade along transportation routes([Goetz, G. and Todes, A. (2014) ‘Johannesburg’s urban space economy’, in Changing Spaces, Changing City: Johannesburg after apartheid. Johannesburg: Wits University Press](https://www.jstor.org/stable/10.18772/22014107656.10.)) \n",
    "\n",
    "Locals who travel along those routes increasingly interact with these traders and according to contact theory ([Enos 2014](https://www.pnas.org/content/111/10/3699)), this interaction should ease intergroup tensions and improve locals attitudes towards foreigners.\n",
    "\n",
    "Also drawing on contact theory, the second hypothesis will aim to understand whether public transit has changed attitudes between different population groups. As indicated above, Gauteng was planned along racial lines, which recent mayors have attempted to reverse - in part by enhancing access between black and white neighborhoods. Bus routes are now planned to run between these historically segregated areas thereby increasing exposure to other population groups. "
   ]
  },
  {
   "cell_type": "markdown",
   "id": "ef628313-1b81-4d9c-93dd-5536ff557139",
   "metadata": {},
   "source": [
    "### Outputs\n",
    "\n",
    "To date, we have explored the data and created the following maps and charts that inform our study: \n",
    "\n",
    "- Map of Gauteng Districts\n",
    "\n",
    "- Average sentiment around the QoL survey statement \"Blacks and whites will never really trust each other\"\n",
    "\n",
    "- Respondents Walking Proximity to Public Transport\n",
    "\n",
    "- Static and interactive maps of the percentage of each ward that uses BRT \"once or twice a week\" and \"never\"\n",
    "\n",
    "- Static maps of wards with more than 80% of respondents living within 10 minute walking distance of public transport\n",
    "\n",
    "- Plotly bar charts of motivations for using BRT, satisfaction with BRT, and frequency of BRT use by population group\n",
    "\n",
    "\n",
    "For the final project we intend to focus on wards where bus and rail routes have been implemented post 2011 to assess whether there has been any change in attitudes towards foreigners and other population groups before. Currently we are struggling to access shapefiles on the bus routes, which is why we will likely have to hand code them. "
   ]
  },
  {
   "cell_type": "markdown",
   "id": "7717c3c6-ad9c-46ef-888a-11e13ae9c7b4",
   "metadata": {},
   "source": [
    "### Data Sources for the Study\n",
    "\n",
    "**Quality of Life Surveys**: Our primary data set that we will use for this analysis is the GCRO’s quality of life survey. The biennial Quality of Life (QoL) survey, first conducted in 2009, measures the quality of life, socio-economic circumstances, attitudes to service delivery, psycho-social attitudes, value-base and other characteristics of the Gauteng City Region. It serves as a tracking and diagnostic tool, affording a rich information resource for policymakers and the public wanting to see where progress is being made, and where concerns remain.\n",
    "\n",
    "- [17/18 Quality of Life Survey](https://www.datafirst.uct.ac.za/dataportal/index.php/catalog/GCRO)\n",
    "- [Previous Quality of Life Surveys](https://www.gcro.ac.za/outputs/datasets/)\n",
    "\n",
    "**Wards in Gauteng Region**: The Municipal Demarcation Board of South Africa has spatial data available of Guateng wards. The shapefile data can be found on our group repo [here](https://github.com/esavignano23/up206a-group-project/blob/main/group%20assignments/MDB_Wards_2020.zip).\n",
    "\n",
    "\n",
    "**Bus and Train Lines in Gauteng**: Though data is available for railway stations in Gauteng from the Gauteng City Region Integrated Geospatial Data Platform, it is not available for download. We will be requesting access to download a shapefile for bus and rail lines.\n",
    "- [Gauteng Province Rail Stations](https://gisportal.gauteng.gov.za/portal/home/item.html?id=418d284c8e2f451e90485fad49b6b680#data)\n",
    "\n",
    "**Data Sources on Github**: All of our current data sources can be found [here](https://github.com/esavignano23/up206a-group-project/tree/main/group%20assignments)"
   ]
  }
 ],
 "metadata": {
  "kernelspec": {
   "display_name": "Python 3 (ipykernel)",
   "language": "python",
   "name": "python3"
  },
  "language_info": {
   "codemirror_mode": {
    "name": "ipython",
    "version": 3
   },
   "file_extension": ".py",
   "mimetype": "text/x-python",
   "name": "python",
   "nbconvert_exporter": "python",
   "pygments_lexer": "ipython3",
   "version": "3.9.6"
  }
 },
 "nbformat": 4,
 "nbformat_minor": 5
}
